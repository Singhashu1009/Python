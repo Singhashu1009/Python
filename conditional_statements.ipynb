{
  "nbformat": 4,
  "nbformat_minor": 0,
  "metadata": {
    "colab": {
      "provenance": [],
      "authorship_tag": "ABX9TyOt1TXrPIUqX3j7kCuSUQkk",
      "include_colab_link": true
    },
    "kernelspec": {
      "name": "python3",
      "display_name": "Python 3"
    },
    "language_info": {
      "name": "python"
    }
  },
  "cells": [
    {
      "cell_type": "markdown",
      "metadata": {
        "id": "view-in-github",
        "colab_type": "text"
      },
      "source": [
        "<a href=\"https://colab.research.google.com/github/Singhashu1009/Python/blob/main/conditional_statements.ipynb\" target=\"_parent\"><img src=\"https://colab.research.google.com/assets/colab-badge.svg\" alt=\"Open In Colab\"/></a>"
      ]
    },
    {
      "cell_type": "code",
      "execution_count": null,
      "metadata": {
        "id": "cAFBL53QMjgo"
      },
      "outputs": [],
      "source": [
        "a= 52\n",
        "b= 22"
      ]
    },
    {
      "cell_type": "code",
      "source": [
        "a == b\n"
      ],
      "metadata": {
        "colab": {
          "base_uri": "https://localhost:8080/"
        },
        "id": "yLh0mdjaT-B9",
        "outputId": "f7f31709-002e-4c9d-f9c6-ec4921e9c8b6"
      },
      "execution_count": null,
      "outputs": [
        {
          "output_type": "execute_result",
          "data": {
            "text/plain": [
              "False"
            ]
          },
          "metadata": {},
          "execution_count": 2
        }
      ]
    },
    {
      "cell_type": "code",
      "source": [
        "a != b"
      ],
      "metadata": {
        "colab": {
          "base_uri": "https://localhost:8080/"
        },
        "id": "oMoSL63MUCAh",
        "outputId": "acfe019f-9cb5-4a7a-e8c3-b76dd1883ced"
      },
      "execution_count": null,
      "outputs": [
        {
          "output_type": "execute_result",
          "data": {
            "text/plain": [
              "True"
            ]
          },
          "metadata": {},
          "execution_count": 3
        }
      ]
    },
    {
      "cell_type": "code",
      "source": [
        "a < b"
      ],
      "metadata": {
        "colab": {
          "base_uri": "https://localhost:8080/"
        },
        "id": "rwF720tQUFa1",
        "outputId": "68462594-32c7-4dac-f252-bd3babb46772"
      },
      "execution_count": null,
      "outputs": [
        {
          "output_type": "execute_result",
          "data": {
            "text/plain": [
              "False"
            ]
          },
          "metadata": {},
          "execution_count": 4
        }
      ]
    },
    {
      "cell_type": "code",
      "source": [
        "a>b"
      ],
      "metadata": {
        "colab": {
          "base_uri": "https://localhost:8080/"
        },
        "id": "kr08a0X_UMTw",
        "outputId": "cbb2e353-0718-4e6e-90a9-fa59fd775285"
      },
      "execution_count": null,
      "outputs": [
        {
          "output_type": "execute_result",
          "data": {
            "text/plain": [
              "True"
            ]
          },
          "metadata": {},
          "execution_count": 5
        }
      ]
    },
    {
      "cell_type": "code",
      "source": [
        "lst =[22,25,36,45,85,45,79,45,22,10,99]"
      ],
      "metadata": {
        "id": "nOMHdpGMUMQS"
      },
      "execution_count": null,
      "outputs": []
    },
    {
      "cell_type": "code",
      "source": [
        "ab = tuple(set(lst))\n",
        "print(ab)\n",
        "ab = list(set(lst))\n",
        "print(ab)"
      ],
      "metadata": {
        "colab": {
          "base_uri": "https://localhost:8080/"
        },
        "id": "tfEcWLtjUMOK",
        "outputId": "2b22dd69-1a9a-45f6-f5b5-d507db885fbd"
      },
      "execution_count": null,
      "outputs": [
        {
          "output_type": "stream",
          "name": "stdout",
          "text": [
            "(99, 36, 10, 45, 79, 85, 22, 25)\n",
            "[99, 36, 10, 45, 79, 85, 22, 25]\n"
          ]
        }
      ]
    },
    {
      "cell_type": "code",
      "source": [
        "value = (-10 -20) * 0\n",
        "\n",
        "if value > 0:\n",
        "  print(\"positive\")\n",
        "elif value < 0:\n",
        "  print(\"negative\")\n",
        "else:\n",
        "  print(\"zero\")"
      ],
      "metadata": {
        "colab": {
          "base_uri": "https://localhost:8080/"
        },
        "id": "J-acEseYUMKw",
        "outputId": "12a6309e-45ef-4d56-e7e6-463216c8ca3a"
      },
      "execution_count": null,
      "outputs": [
        {
          "output_type": "stream",
          "name": "stdout",
          "text": [
            "zero\n"
          ]
        }
      ]
    },
    {
      "cell_type": "code",
      "source": [
        "marks = int(input(\"YOUR MARKS \"))\n",
        "if marks > 90:\n",
        "  print(\"GREAT WORK\")\n",
        "elif marks < 90 and marks >= 80:\n",
        "  print(\"NICE WORK\")\n",
        "elif marks < 80 and marks >= 70:\n",
        "  print(\"GOOD WORK\")\n",
        "elif marks < 70 and marks >= 55:\n",
        "  print(\"AVERAGE WORK\")\n",
        "elif marks < 55 and marks >= 33:\n",
        "  print(\"NEED TO WORK HARDER\")\n",
        "else:\n",
        "  print(\"YOU ARE FAIL\")\n"
      ],
      "metadata": {
        "colab": {
          "base_uri": "https://localhost:8080/"
        },
        "id": "aizYeJWNUMGL",
        "outputId": "6e771103-fe93-498a-9578-844012682f86"
      },
      "execution_count": null,
      "outputs": [
        {
          "output_type": "stream",
          "name": "stdout",
          "text": [
            "YOUR MARKS 78\n",
            "GOOD WORK\n"
          ]
        }
      ]
    },
    {
      "cell_type": "code",
      "source": [],
      "metadata": {
        "id": "UvMVGA7eUMDE"
      },
      "execution_count": null,
      "outputs": []
    },
    {
      "cell_type": "code",
      "source": [],
      "metadata": {
        "id": "yoZGxdbgUL_9"
      },
      "execution_count": null,
      "outputs": []
    },
    {
      "cell_type": "code",
      "source": [],
      "metadata": {
        "id": "3Jk0HPboUL9S"
      },
      "execution_count": null,
      "outputs": []
    },
    {
      "cell_type": "code",
      "source": [],
      "metadata": {
        "id": "V2-3y2jbUL6L"
      },
      "execution_count": null,
      "outputs": []
    },
    {
      "cell_type": "code",
      "source": [],
      "metadata": {
        "id": "bz_EKOBtUL3d"
      },
      "execution_count": null,
      "outputs": []
    },
    {
      "cell_type": "code",
      "source": [],
      "metadata": {
        "id": "-ldXME_tULzl"
      },
      "execution_count": null,
      "outputs": []
    },
    {
      "cell_type": "code",
      "source": [],
      "metadata": {
        "id": "KjXJQy1PULt7"
      },
      "execution_count": null,
      "outputs": []
    },
    {
      "cell_type": "code",
      "source": [],
      "metadata": {
        "id": "Te1gaJzoULmX"
      },
      "execution_count": null,
      "outputs": []
    }
  ]
}